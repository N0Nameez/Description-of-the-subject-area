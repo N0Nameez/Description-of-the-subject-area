{
 "cells": [
  {
   "cell_type": "code",
   "execution_count": 1,
   "id": "b156cb22-7962-46df-946c-0b7d13da7280",
   "metadata": {},
   "outputs": [],
   "source": [
    "import fitz\n",
    "import pandas as pd\n",
    "import io\n",
    "import glob"
   ]
  },
  {
   "cell_type": "code",
   "execution_count": 2,
   "id": "0760aca7-4106-4791-8f2b-902c8820184d",
   "metadata": {},
   "outputs": [],
   "source": [
    "all_pdf = glob.glob(r\"PDF2\\*.pdf\")"
   ]
  },
  {
   "cell_type": "code",
   "execution_count": 3,
   "id": "2876b635-9546-43c1-ab1a-66a08b391768",
   "metadata": {},
   "outputs": [
    {
     "data": {
      "text/plain": [
       "25"
      ]
     },
     "execution_count": 3,
     "metadata": {},
     "output_type": "execute_result"
    }
   ],
   "source": [
    "len(all_pdf)"
   ]
  },
  {
   "cell_type": "code",
   "execution_count": 4,
   "id": "f2a9c7dc-1ece-4f3b-806b-5a61ef1d3faf",
   "metadata": {},
   "outputs": [
    {
     "data": {
      "text/plain": [
       "['PDF2\\\\Cocoapods, Carthage, SPM как выбрать менеджер зависимостей в iOS.pdf',\n",
       " 'PDF2\\\\Deutsche Telekom и Perplexity объявили о новом «AI Phone» стоимостью менее 1 000 долларов _ Хабр.pdf',\n",
       " 'PDF2\\\\imgonline-com-ua-site2pdfB28eKGLy6EjA.pdf',\n",
       " 'PDF2\\\\OSINT & Hacking — как работает фишинг для нельзяграма _ Хабр3.pdf',\n",
       " 'PDF2\\\\RUVDS.com, Москва - VDS_VPS-хостинг. Скидка 15% по коду HABR15 _ Статьи _ Хабр.pdf',\n",
       " 'PDF2\\\\YADRO, Москва - Тут про железо и инженерную культуру _ Статьи _ Хабр.pdf',\n",
       " 'PDF2\\\\Yandex N.V. запретили в\\xa0течение пяти лет создавать аналогичные «Яндексу» сервисы _ Хабр.pdf',\n",
       " 'PDF2\\\\Быстрое начало работы с Gitlab CICD.pdf',\n",
       " 'PDF2\\\\Генеральный директор Mozilla покинула свой пост _ Хабр.pdf',\n",
       " 'PDF2\\\\За что безопасники будут гореть в аду_ _ Хабр.pdf',\n",
       " 'PDF2\\\\Заезжаем в Kotlin Multiplatform. Но какой ценой_ _ Хабр.pdf',\n",
       " 'PDF2\\\\ИИ-агенты в Альфа-Банке_ нейросети создают автотесты без участия человека _ Хабр.pdf',\n",
       " 'PDF2\\\\Инструменты наблюдаемости, о которых нужно знать в 2023 году.pdf',\n",
       " 'PDF2\\\\История российской науки_ напишем вместе_ _ Хабр.pdf',\n",
       " 'PDF2\\\\Как системному аналитику написать хорошее резюме —\\xa011 рекомендаций _ Хабр.pdf',\n",
       " 'PDF2\\\\Как создать аппаратный эмулятор CD-ROM без паяльника _ Хабр.pdf',\n",
       " 'PDF2\\\\Как создать аппаратный эмулятор CD-ROM.pdf',\n",
       " 'PDF2\\\\Компании _ Хабр.pdf',\n",
       " 'PDF2\\\\Компании.pdf',\n",
       " 'PDF2\\\\Может ли chatGPT забронировать столик в ресторане через WhatsApp.pdf',\n",
       " 'PDF2\\\\МТС, Москва - Про жизнь и развитие в IT _ Статьи _ Хабр.pdf',\n",
       " 'PDF2\\\\Новые утечки.pdf',\n",
       " 'PDF2\\\\Почему Data Science не для вас.pdf',\n",
       " 'PDF2\\\\Хабр, Москва - Экосистема для развития людей, вовлеченных в IT _ Статьи _ Хабр.pdf',\n",
       " 'PDF2\\\\Яндекс, Москва - Как мы делаем Яндекс _ Статьи _ Хабр.pdf']"
      ]
     },
     "execution_count": 4,
     "metadata": {},
     "output_type": "execute_result"
    }
   ],
   "source": [
    "all_pdf"
   ]
  },
  {
   "cell_type": "code",
   "execution_count": 5,
   "id": "cf2779cc-1cf4-4b06-a7bf-54a2d52a54c6",
   "metadata": {},
   "outputs": [],
   "source": [
    "def extract_text_from_pdf(pdf_path: str) -> str:\n",
    "    doc = fitz.open(pdf_path)\n",
    "    full_text = []\n",
    "    for page in doc:\n",
    "        full_text.append(page.get_text(\"text\"))\n",
    "    return \"\\n\".join(full_text)\n",
    "\n",
    "def pars_pdf(text):\n",
    "    text2 = text.split('\\n')\n",
    "    \n",
    "    if 'Рейтинг' in text2:\n",
    "        num = text2.index('Рейтинг')\n",
    "        raiting = text2[num-1] if num-1 >= 0 else \"0\"\n",
    "        name = text2[num+1] if num+1 < len(text2) else \"\"\n",
    "        activity = text2[num+2] if num+2 < len(text2) else \"\"\n",
    "        date_publish = text2[num+3] if num+3 < len(text2) else \"\"\n",
    "    else:\n",
    "        raiting = \"0\"\n",
    "        name = \"\"\n",
    "        activity = \"\"\n",
    "        date_publish = \"\"\n",
    "        \n",
    "        if 'Простой' in text2:\n",
    "            num2 = text2.index('Простой')\n",
    "            date_publish = text2[num2-1] if num2-1 >= 0 else \"\"\n",
    "    \n",
    "    return name, raiting, activity, date_publish"
   ]
  },
  {
   "cell_type": "code",
   "execution_count": 6,
   "id": "e94e4242-b1b0-496d-85fb-fcfb7e1cdb08",
   "metadata": {},
   "outputs": [],
   "source": [
    "Brak = []\n",
    "NameCompany = []\n",
    "Raiting = []\n",
    "DataPublish = []\n",
    "Activity = []\n",
    "TextArticle = []"
   ]
  },
  {
   "cell_type": "code",
   "execution_count": 7,
   "id": "729bcf8b-0837-4e9e-a239-84bba3e3b461",
   "metadata": {},
   "outputs": [],
   "source": [
    "for pdf in all_pdf:\n",
    "    try:  \n",
    "        x = extract_text_from_pdf(pdf)\n",
    "        \n",
    "        first_page_text = x.split(\"\\n\\n\")[0]\n",
    "        N, R, A, D = pars_pdf(first_page_text)\n",
    "        \n",
    "        T = ' '.join(x.split())\n",
    "\n",
    "        NameCompany.append(N)\n",
    "        Raiting.append(R)\n",
    "        DataPublish.append(D)\n",
    "        Activity.append(A)\n",
    "        TextArticle.append(T)\n",
    "    \n",
    "    except Exception as e:\n",
    "        print(f\"Ошибка при обработке {pdf}: {e}\")\n",
    "        Brak.append(pdf)"
   ]
  },
  {
   "cell_type": "code",
   "execution_count": 8,
   "id": "03cab805-49b7-4cb1-9534-fe1cf5d6b77b",
   "metadata": {},
   "outputs": [],
   "source": [
    "df = pd.DataFrame({\n",
    "'NameCompany': [],\n",
    "'Description': [],\n",
    "'Raiting': [],\n",
    "'DataPublish': [],\n",
    "'Activity': [],\n",
    "'TextArticle': []\n",
    "})"
   ]
  },
  {
   "cell_type": "code",
   "execution_count": 9,
   "id": "c870c6f0-408e-439c-98c8-81989b5ce2dc",
   "metadata": {},
   "outputs": [],
   "source": [
    "df['NameCompany'] = NameCompany\n",
    "df['Raiting'] = Raiting\n",
    "df['DataPublish'] = DataPublish\n",
    "df['Activity'] = Activity\n",
    "df['TextArticle'] = TextArticle"
   ]
  },
  {
   "cell_type": "code",
   "execution_count": 10,
   "id": "4574e4f6-7a5d-4299-beb0-e43d64527e35",
   "metadata": {},
   "outputs": [
    {
     "data": {
      "text/html": [
       "<div>\n",
       "<style scoped>\n",
       "    .dataframe tbody tr th:only-of-type {\n",
       "        vertical-align: middle;\n",
       "    }\n",
       "\n",
       "    .dataframe tbody tr th {\n",
       "        vertical-align: top;\n",
       "    }\n",
       "\n",
       "    .dataframe thead th {\n",
       "        text-align: right;\n",
       "    }\n",
       "</style>\n",
       "<table border=\"1\" class=\"dataframe\">\n",
       "  <thead>\n",
       "    <tr style=\"text-align: right;\">\n",
       "      <th></th>\n",
       "      <th>NameCompany</th>\n",
       "      <th>Description</th>\n",
       "      <th>Raiting</th>\n",
       "      <th>DataPublish</th>\n",
       "      <th>Activity</th>\n",
       "      <th>TextArticle</th>\n",
       "    </tr>\n",
       "  </thead>\n",
       "  <tbody>\n",
       "    <tr>\n",
       "      <th>0</th>\n",
       "      <td>red_mad_robot</td>\n",
       "      <td>NaN</td>\n",
       "      <td>117.94</td>\n",
       "      <td>6 часов назад</td>\n",
       "      <td>№1 в разработке цифровых решений для бизнеса</td>\n",
       "      <td>117.94 Рейтинг red_mad_robot №1 в разработке ц...</td>\n",
       "    </tr>\n",
       "    <tr>\n",
       "      <th>1</th>\n",
       "      <td></td>\n",
       "      <td>NaN</td>\n",
       "      <td>0</td>\n",
       "      <td></td>\n",
       "      <td></td>\n",
       "      <td>Еще до начала MWC в Барселоне было очевидно, ч...</td>\n",
       "    </tr>\n",
       "    <tr>\n",
       "      <th>2</th>\n",
       "      <td>Cloud4Y</td>\n",
       "      <td>NaN</td>\n",
       "      <td>71.07</td>\n",
       "      <td>Автор оригинала: Yashwant Singh</td>\n",
       "      <td>#1 Корпоративный облачный провайдер</td>\n",
       "      <td>71.07 Рейтинг Cloud4Y #1 Корпоративный облачны...</td>\n",
       "    </tr>\n",
       "    <tr>\n",
       "      <th>3</th>\n",
       "      <td>Cloud4Y</td>\n",
       "      <td>NaN</td>\n",
       "      <td>71.07</td>\n",
       "      <td>Автор оригинала: Yashwant Singh</td>\n",
       "      <td>#1 Корпоративный облачный провайдер</td>\n",
       "      <td>71.07 Рейтинг Cloud4Y #1 Корпоративный облачны...</td>\n",
       "    </tr>\n",
       "    <tr>\n",
       "      <th>4</th>\n",
       "      <td>RUVDS.com</td>\n",
       "      <td>NaN</td>\n",
       "      <td>2619.78</td>\n",
       "      <td>Новые</td>\n",
       "      <td>VDS/VPS-хостинг. Скидка 15% по коду HABR15</td>\n",
       "      <td>2619.78 Рейтинг RUVDS.com VDS/VPS-хостинг. Ски...</td>\n",
       "    </tr>\n",
       "  </tbody>\n",
       "</table>\n",
       "</div>"
      ],
      "text/plain": [
       "     NameCompany  Description  Raiting                      DataPublish  \\\n",
       "0  red_mad_robot          NaN   117.94                    6 часов назад   \n",
       "1                         NaN        0                                    \n",
       "2        Cloud4Y          NaN    71.07  Автор оригинала: Yashwant Singh   \n",
       "3        Cloud4Y          NaN    71.07  Автор оригинала: Yashwant Singh   \n",
       "4      RUVDS.com          NaN  2619.78                            Новые   \n",
       "\n",
       "                                       Activity  \\\n",
       "0  №1 в разработке цифровых решений для бизнеса   \n",
       "1                                                 \n",
       "2           #1 Корпоративный облачный провайдер   \n",
       "3           #1 Корпоративный облачный провайдер   \n",
       "4    VDS/VPS-хостинг. Скидка 15% по коду HABR15   \n",
       "\n",
       "                                         TextArticle  \n",
       "0  117.94 Рейтинг red_mad_robot №1 в разработке ц...  \n",
       "1  Еще до начала MWC в Барселоне было очевидно, ч...  \n",
       "2  71.07 Рейтинг Cloud4Y #1 Корпоративный облачны...  \n",
       "3  71.07 Рейтинг Cloud4Y #1 Корпоративный облачны...  \n",
       "4  2619.78 Рейтинг RUVDS.com VDS/VPS-хостинг. Ски...  "
      ]
     },
     "execution_count": 10,
     "metadata": {},
     "output_type": "execute_result"
    }
   ],
   "source": [
    "df.head()"
   ]
  },
  {
   "cell_type": "code",
   "execution_count": 22,
   "id": "21f7ed2a-7563-4be6-af12-f0744be7179f",
   "metadata": {},
   "outputs": [
    {
     "name": "stdout",
     "output_type": "stream",
     "text": [
      "<class 'pandas.core.frame.DataFrame'>\n",
      "RangeIndex: 25 entries, 0 to 24\n",
      "Data columns (total 6 columns):\n",
      " #   Column       Non-Null Count  Dtype  \n",
      "---  ------       --------------  -----  \n",
      " 0   NameCompany  25 non-null     object \n",
      " 1   Description  0 non-null      float64\n",
      " 2   Raiting      25 non-null     object \n",
      " 3   DataPublish  25 non-null     object \n",
      " 4   Activity     25 non-null     object \n",
      " 5   TextArticle  25 non-null     object \n",
      "dtypes: float64(1), object(5)\n",
      "memory usage: 1.3+ KB\n"
     ]
    }
   ],
   "source": [
    "df.info()"
   ]
  },
  {
   "cell_type": "code",
   "execution_count": null,
   "id": "23f510f4-a6ca-474b-8e11-3f42be3d3e80",
   "metadata": {},
   "outputs": [],
   "source": []
  }
 ],
 "metadata": {
  "kernelspec": {
   "display_name": "Python [conda env:base] *",
   "language": "python",
   "name": "conda-base-py"
  },
  "language_info": {
   "codemirror_mode": {
    "name": "ipython",
    "version": 3
   },
   "file_extension": ".py",
   "mimetype": "text/x-python",
   "name": "python",
   "nbconvert_exporter": "python",
   "pygments_lexer": "ipython3",
   "version": "3.12.7"
  }
 },
 "nbformat": 4,
 "nbformat_minor": 5
}
